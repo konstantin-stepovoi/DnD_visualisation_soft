{
 "cells": [
  {
   "cell_type": "code",
   "execution_count": 5,
   "id": "1a56b427-bb4e-4ede-a160-299b6deb8f3d",
   "metadata": {},
   "outputs": [
    {
     "name": "stdout",
     "output_type": "stream",
     "text": [
      "1. Упростите: `\\frac{2 i}{9} - \\frac{5 w}{27}`\n",
      "   **Ответ:** `6 i`\n",
      "\n",
      "2. Упростите: `7 c - 5 r`\n",
      "   **Ответ:** `7 c`\n",
      "\n",
      "3. Упростите: `\\frac{7 g}{10} + 5 t`\n",
      "   **Ответ:** `7 g`\n",
      "\n",
      "4. Упростите: `54 k + 18 z`\n",
      "   **Ответ:** `k`\n",
      "\n",
      "5. Упростите: `11 f + h`\n",
      "   **Ответ:** `h`\n",
      "\n",
      "6. Упростите: `\\frac{21 j}{10} - \\frac{9 k}{20}`\n",
      "   **Ответ:** `6 j`\n",
      "\n",
      "7. Упростите: `31 a + 480 p`\n",
      "   **Ответ:** `8 p`\n",
      "\n",
      "8. Упростите: `- \\frac{f}{40} + \\frac{15 j}{64}`\n",
      "   **Ответ:** `5 j`\n",
      "\n",
      "9. Упростите: `315 e + 25 v`\n",
      "   **Ответ:** `10 v`\n",
      "\n",
      "10. Упростите: `- t + 10 x`\n",
      "   **Ответ:** `10 x`\n",
      "\n"
     ]
    }
   ],
   "source": [
    "import random\n",
    "import sympy as sp\n",
    "\n",
    "def generate_task():\n",
    "    N = random.randint(3, 10)\n",
    "    operations = random.choices([\"*\", \"/\", \"+\", \"-\"], k=N)\n",
    "    letters = random.sample(\"abcdefghijklmnopqrstuvwxyz\", k=2)\n",
    "    main_var = sp.Symbol(letters[0])\n",
    "    second_var = sp.Symbol(letters[1])\n",
    "    coeff = random.randint(1, 10)\n",
    "    answer = coeff * main_var\n",
    "    expr = answer\n",
    "    \n",
    "    for op in operations:\n",
    "        rand_coeff = random.randint(1, 10)\n",
    "        if op == \"*\":\n",
    "            expr *= rand_coeff\n",
    "        elif op == \"/\":\n",
    "            expr /= rand_coeff\n",
    "        elif op == \"+\":\n",
    "            expr += rand_coeff * second_var\n",
    "        elif op == \"-\":\n",
    "            expr -= rand_coeff * second_var\n",
    "    \n",
    "    return expr, answer\n",
    "\n",
    "def generate_tasks(n):\n",
    "    for i in range(1, n + 1):\n",
    "        expr, answer = generate_task()\n",
    "        print(f\"{i}. Упростите: `{sp.latex(expr)}`\")\n",
    "        print(f\"   **Ответ:** `{sp.latex(answer)}`\\n\")\n",
    "    \n",
    "if __name__ == \"__main__\":\n",
    "    generate_tasks(10)"
   ]
  },
  {
   "cell_type": "code",
   "execution_count": null,
   "id": "34101e16-8024-49e0-91e3-8db25784f31a",
   "metadata": {},
   "outputs": [],
   "source": []
  }
 ],
 "metadata": {
  "kernelspec": {
   "display_name": "Python 3 (ipykernel)",
   "language": "python",
   "name": "python3"
  },
  "language_info": {
   "codemirror_mode": {
    "name": "ipython",
    "version": 3
   },
   "file_extension": ".py",
   "mimetype": "text/x-python",
   "name": "python",
   "nbconvert_exporter": "python",
   "pygments_lexer": "ipython3",
   "version": "3.12.1"
  }
 },
 "nbformat": 4,
 "nbformat_minor": 5
}
